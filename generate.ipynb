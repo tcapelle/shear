{
 "cells": [
  {
   "cell_type": "code",
   "execution_count": 3,
   "metadata": {},
   "outputs": [
    {
     "data": {
      "application/vnd.jupyter.widget-view+json": {
       "model_id": "8df61af3974f483a99f8f67c01e79c3f",
       "version_major": 2,
       "version_minor": 0
      },
      "text/plain": [
       "Loading checkpoint shards:   0%|          | 0/2 [00:00<?, ?it/s]"
      ]
     },
     "metadata": {},
     "output_type": "display_data"
    }
   ],
   "source": [
    "import torch.nn as nn\n",
    "from transformers import AutoTokenizer, AutoModelForCausalLM\n",
    "\n",
    "model_id = \"./models/mistral_7b_12_layers_start/\"\n",
    "tok = AutoTokenizer.from_pretrained(model_id)\n",
    "tok.pad_token_id = 2\n",
    "\n",
    "device_map = \"cuda:0\"\n",
    "model = AutoModelForCausalLM.from_pretrained(model_id, device_map=device_map, use_cache=True)"
   ]
  },
  {
   "cell_type": "code",
   "execution_count": 2,
   "metadata": {},
   "outputs": [],
   "source": [
    "from data import create_alpaca_prompt\n",
    "\n",
    "def _generate(prompt):\n",
    "    input_ids = tok.encode(prompt, return_tensors=\"pt\").to(model.device)\n",
    "    out = model.generate(input_ids, max_length=350)\n",
    "    instruction_tokens = len(input_ids[0])\n",
    "    print(f\"\\n{prompt}\")\n",
    "    print(tok.decode(out[0][instruction_tokens:], skip_special_tokens=True))\n",
    "\n",
    "def generate(text=\"Give me a recipe of Carbonara\", input=\"\"):\n",
    "    row = {\"instruction\": text, \"input\": input}\n",
    "    prompt = create_alpaca_prompt(row)\n",
    "    _generate(prompt)"
   ]
  },
  {
   "cell_type": "code",
   "execution_count": 4,
   "metadata": {},
   "outputs": [
    {
     "name": "stdout",
     "output_type": "stream",
     "text": [
      "\n",
      "Below is an instruction that describes a task. Write a response that appropriately completes the request.\n",
      "\n",
      "### Instruction:\n",
      "What clothes should I pack for a trip to Chamonix in winter?\n",
      "\n",
      "### Response:\n",
      "\n",
      "When planning a trip to the Chamonix area in winter, it's important to consider the weather and activities you'll be doing. Here are some suggestions for you to pack for a memorable trip:\n",
      "\n",
      "1. Clothes that are appropriate for the weather: Clothes that are appropriate for the weather are essential. For example, layers to keep your skin dry and warm, and a layer to protect your head and neck from the sun.\n",
      "\n",
      "2. Clothing layers: Clothes that are appropriate for the weather will help you feel comfortable and comfortable while enjoying the scenery. For example, a warm jacket, a pair of high-waisted green shoes, and a pair of strappy sandals are all great options.\n",
      "\n",
      "3. Waterproof jacket: To protect your skin and keep your body warm, it's important to have a waterproof jacket. This will help you stay dry and comfortable while enjoying the scenery.\n",
      "\n",
      "4. Waterproof jacket-to-head-to-foot: To protect your skin and keep your body warm, it's important to have a waterproof jacket. This will help you stay dry and comfortable while enjoying the scenery.\n",
      "\n",
      "5. Warm clothing: Warm clothing is essential for a memorable trip. For example, a warm layer, a long-sleeved shirt or sweater, and a\n"
     ]
    }
   ],
   "source": [
    "generate(text = \"What clothes should I pack for a trip to Chamonix in winter?\",\n",
    "         input=\"\")"
   ]
  },
  {
   "cell_type": "code",
   "execution_count": 5,
   "metadata": {},
   "outputs": [
    {
     "name": "stdout",
     "output_type": "stream",
     "text": [
      "\n",
      "Below is an instruction that describes a task. Write a response that appropriately completes the request.\n",
      "\n",
      "### Instruction:\n",
      "Give me a recipe of Carbonara\n",
      "\n",
      "### Response:\n",
      "\n",
      "Carbonara is a classic Italian dish that originated in Italy. Here is a simple recipe that you can try at home:\n",
      "\n",
      "Ingredients:\n",
      "- 1 pound of ground beef\n",
      "- 1 can of crushed tomatoes\n",
      "- 1 can of diced tomatoes\n",
      "- 1/2 cup of all-purpose flour\n",
      "- 1/2 teaspoon of ground cinnamon\n",
      "- 1/2 teaspoon of ground nutmeg\n",
      "- 1/4 teaspoon of salt\n",
      "- 1/4 cup of unsalted butter, melted\n",
      "- 1/2 cup of heavy cream\n",
      "- 1/2 cup of chopped fresh parsley\n",
      "\n",
      "Instructions:\n",
      "\n",
      "1. In a large pot, heat the olive oil over medium heat. Add the ground beef and cook until it is brown and cooked through, about 5 minutes.\n",
      "\n",
      "2. Add the diced tomatoes to the pot and stir to combine with the ground beef.\n",
      "\n",
      "3. Stir in the diced tomatoes, all-purpose flour, cinnamon, nutmeg, and salt.\n",
      "\n",
      "4. Stir in the butter and cook until the sauce has thickened, about 2 minutes.\n",
      "\n",
      "5. Serve the Carbonara with your favorite dipping\n"
     ]
    }
   ],
   "source": [
    "generate()"
   ]
  },
  {
   "cell_type": "code",
   "execution_count": null,
   "metadata": {},
   "outputs": [],
   "source": []
  }
 ],
 "metadata": {
  "kernelspec": {
   "display_name": "pt",
   "language": "python",
   "name": "python3"
  },
  "language_info": {
   "codemirror_mode": {
    "name": "ipython",
    "version": 3
   },
   "file_extension": ".py",
   "mimetype": "text/x-python",
   "name": "python",
   "nbconvert_exporter": "python",
   "pygments_lexer": "ipython3",
   "version": "3.10.13"
  }
 },
 "nbformat": 4,
 "nbformat_minor": 2
}
